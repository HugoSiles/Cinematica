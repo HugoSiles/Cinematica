{
 "cells": [
  {
   "cell_type": "code",
   "execution_count": null,
   "metadata": {},
   "outputs": [],
   "source": [
    "from vpython import *\n",
    "\n",
    "scene.background = color.gray(0.8)\n",
    "scene.align='left'\n",
    "floor = box(length=4, height=0.5, width=4, color=color.blue)\n",
    "ball = sphere(pos=vector(0,4,0), color=color.red)\n",
    "ball.velocity = vector(0,-1,0)\n",
    "\n",
    "dt = 0.01\n",
    " \n",
    "ejecutando =  False\n",
    "def inicio(b):\n",
    "    global ejecutando    \n",
    "    ejecutando = not ejecutando\n",
    "    if ejecutando: b.text = \"PAUSA\"            \n",
    "    else: b.text = \"INICIAR\"\n",
    "scene.caption = '\\n \\n \\n \\n                CONTROLES \\n \\n \\n'    \n",
    "scene.append_to_caption('                  ')\n",
    "button(text=\"INICIAR\",align='right',bind=inicio)\n",
    "while True:        \n",
    "    rate(100)\n",
    "    if ejecutando:\n",
    "        ball.pos = ball.pos + ball.velocity*dt\n",
    "        if ball.pos.y < 1:\n",
    "            ball.velocity.y = -ball.velocity.y\n",
    "        else:\n",
    "            ball.velocity.y = ball.velocity.y - 9.8*dt               \n"
   ]
  },
  {
   "cell_type": "code",
   "execution_count": null,
   "metadata": {},
   "outputs": [],
   "source": []
  }
 ],
 "metadata": {
  "kernelspec": {
   "display_name": "VPython",
   "language": "python",
   "name": "vpython"
  },
  "language_info": {
   "codemirror_mode": {
    "name": "ipython",
    "version": 2
   },
   "file_extension": ".py",
   "mimetype": "text/x-python",
   "name": "python",
   "nbconvert_exporter": "python",
   "pygments_lexer": "ipython2",
   "version": "2.7.14"
  }
 },
 "nbformat": 4,
 "nbformat_minor": 2
}
