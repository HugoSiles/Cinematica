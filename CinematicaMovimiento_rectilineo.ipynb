{
 "cells": [
  {
   "cell_type": "markdown",
   "metadata": {},
   "source": [
    "   ## CINEMATICA: Movimiento rectilineo"
   ]
  },
  {
   "cell_type": "markdown",
   "metadata": {},
   "source": [
    "## $\\color{blue}{Conceptos\\, de\\, Espacio,\\, Tiempo\\, y\\, Movimiento}$"
   ]
  },
  {
   "cell_type": "markdown",
   "metadata": {},
   "source": [
    "### Espacio:"
   ]
  },
  {
   "cell_type": "markdown",
   "metadata": {},
   "source": [
    "Es un concepto abstracto, de manera sencilla podemos decir que es el medio ilimitado en tres dimenciones cuantificables donde los cuerpos existen y pueden moverse. El espacio es isotropico, es decir todas las direcciones del espacio son equivalentes, no puede diferenciarse una direccion de otra en el espacio libre."
   ]
  },
  {
   "cell_type": "markdown",
   "metadata": {},
   "source": [
    "### Tiempo:"
   ]
  },
  {
   "cell_type": "markdown",
   "metadata": {},
   "source": [
    "El concepto de Tiempo es igual de abstracto, de manera simple puede considerarse como una dimension cuantificable donde la\n",
    "evolucion o cambios en el estado de un sistema fisico es permitido. Si no habria cambios no seria necesario cuantificar el tiempo."
   ]
  },
  {
   "cell_type": "markdown",
   "metadata": {},
   "source": [
    "El Espacio y el Tiempo si bien son conceptos independientes, ambos estan ligados a la existencia misma de los objetoa, de los sistemas fisicos o de los fenomenos fisicos, ya que estos solo pueden existir en un lugar del espacio y en un instante determinado, es decir no es posible por ejemplo que un objeto exista en un lugar del espacio en 'ningun instante' o que exista en un determinado instante pero en 'ninguna parte'."
   ]
  },
  {
   "cell_type": "markdown",
   "metadata": {},
   "source": [
    "### Movimiento"
   ]
  },
  {
   "cell_type": "markdown",
   "metadata": {},
   "source": [
    "El movimiento de los objetos es un fenomeno muy familiar, es el cambio de posicion del objeto con el transcurrir del tiempo: \n",
    "fijamos la posicion inicial del objeto en un instante o tiempo cualquiera , despues de un tiempo posterior volvemos a fijar la posicion del objeto, si las dos posiciones no son iguales entonces decimos que se dio un cambio de posicion del objeto (durante el tiempo transcurrido)."
   ]
  },
  {
   "cell_type": "markdown",
   "metadata": {},
   "source": [
    "El movimiento es un fenomeno intrinsicamente relativo, depende del observador, en fisica decimos que esta definido respecto a un sistema de referencia, por ejemplo para una persona que esta parada en la acera y observa pasar un micro con pasajeros, estos se mueven junto con el micro, sin embargo, para un pasajero todos estan en reposo, incluido el micro.\n"
   ]
  },
  {
   "cell_type": "markdown",
   "metadata": {},
   "source": [
    "## $\\color{blue}{Sistemas\\, de\\, Referencia}$"
   ]
  },
  {
   "cell_type": "markdown",
   "metadata": {},
   "source": [
    "Las leyes de la fisica necesitan una verificacion experimental, lo cual requiere la medicion de un conjunto de variables o cantidades fisicas observables que definen las relaciones matematicas que representan la Ley correspondiente. Casi todas las cantidades fisicas dependen de un 'sistema de referencia' con respecto al cual se hacen las observaciones y las mediciones. "
   ]
  },
  {
   "cell_type": "markdown",
   "metadata": {},
   "source": [
    "El sistema de referencia mas comun es el llamado sistema de coordenadas cartesianas en tres dimensiones cuantificables, el mismo que esta definido por un punto en el espacio al que denominamos origen del sistema de referencia, es este punto se cruzan tres lineas perpendiculares entre si denominadas ejes del sistema de referencia (x,y,z), estos ejes tienen una orientacion o sentido que definen la direccion positiva de los ejes. La Posicion de un objeto (A) se tetermina midiendo la distancia a los ejes ($x_o,y_o,z_o$). En la Figura observamos un sistema de referencia 3D (en tres dimenciones) y un sistema de referencia 2D (en dos dimensiones).\n"
   ]
  },
  {
   "cell_type": "code",
   "execution_count": 1,
   "metadata": {},
   "outputs": [
    {
     "data": {
      "text/html": [
       "<style>.container { width:100% !important; }</style>"
      ],
      "text/plain": [
       "<IPython.core.display.HTML object>"
      ]
     },
     "metadata": {},
     "output_type": "display_data"
    }
   ],
   "source": [
    "#importa pantalla total\n",
    "from IPython.core.display import display, HTML\n",
    "display(HTML(\"<style>.container { width:100% !important; }</style>\"))\n",
    "\n",
    "# Presionar Shift-Enter"
   ]
  },
  {
   "cell_type": "code",
   "execution_count": 2,
   "metadata": {},
   "outputs": [
    {
     "data": {
      "application/javascript": [
       "require.undef(\"nbextensions/vpython_libraries/glow.min\");"
      ],
      "text/plain": [
       "<IPython.core.display.Javascript object>"
      ]
     },
     "metadata": {},
     "output_type": "display_data"
    },
    {
     "data": {
      "application/javascript": [
       "require.undef(\"nbextensions/vpython_libraries/glowcomm\");"
      ],
      "text/plain": [
       "<IPython.core.display.Javascript object>"
      ]
     },
     "metadata": {},
     "output_type": "display_data"
    },
    {
     "data": {
      "application/javascript": [
       "require.undef(\"nbextensions/vpython_libraries/jquery-ui.custom.min\");"
      ],
      "text/plain": [
       "<IPython.core.display.Javascript object>"
      ]
     },
     "metadata": {},
     "output_type": "display_data"
    },
    {
     "data": {
      "application/javascript": [
       "require([\"nbextensions/vpython_libraries/glow.min\"], function(){console.log(\"GLOW LOADED\");})"
      ],
      "text/plain": [
       "<IPython.core.display.Javascript object>"
      ]
     },
     "metadata": {},
     "output_type": "display_data"
    },
    {
     "data": {
      "application/javascript": [
       "require([\"nbextensions/vpython_libraries/glowcomm\"], function(){console.log(\"GLOWCOMM LOADED\");})"
      ],
      "text/plain": [
       "<IPython.core.display.Javascript object>"
      ]
     },
     "metadata": {},
     "output_type": "display_data"
    },
    {
     "data": {
      "application/javascript": [
       "require([\"nbextensions/vpython_libraries/jquery-ui.custom.min\"], function(){console.log(\"JQUERY LOADED\");})"
      ],
      "text/plain": [
       "<IPython.core.display.Javascript object>"
      ]
     },
     "metadata": {},
     "output_type": "display_data"
    },
    {
     "data": {
      "text/html": [
       "<div id=\"glowscript\" class=\"glowscript\"></div>"
      ],
      "text/plain": [
       "<IPython.core.display.HTML object>"
      ]
     },
     "metadata": {},
     "output_type": "display_data"
    },
    {
     "data": {
      "application/javascript": [
       "window.__context = { glowscript_container: $(\"#glowscript\").removeAttr(\"id\")}"
      ],
      "text/plain": [
       "<IPython.core.display.Javascript object>"
      ]
     },
     "metadata": {},
     "output_type": "display_data"
    },
    {
     "data": {
      "text/html": [
       "<div id=\"glowscript\" class=\"glowscript\"></div>"
      ],
      "text/plain": [
       "<IPython.core.display.HTML object>"
      ]
     },
     "metadata": {},
     "output_type": "display_data"
    },
    {
     "data": {
      "application/javascript": [
       "window.__context = { glowscript_container: $(\"#glowscript\").removeAttr(\"id\")}"
      ],
      "text/plain": [
       "<IPython.core.display.Javascript object>"
      ]
     },
     "metadata": {},
     "output_type": "display_data"
    }
   ],
   "source": [
    "# Simulacion de sistemas de referencia\n",
    "%run SistemasReferencia.py\n",
    "\n",
    "# Presionar Shift-Enter"
   ]
  },
  {
   "cell_type": "markdown",
   "metadata": {},
   "source": [
    "## $\\color{blue}{Vectores}$\n"
   ]
  },
  {
   "cell_type": "markdown",
   "metadata": {},
   "source": [
    "El desplazamiento es el cambio de posicion de un objeto, cuanto se ha desplazado el objeto representa la magnitud del desplazamiento, el desplazamiento tiene una direccion determinada que puede coincidir con la direccion de alguno de los ejes de referencia y finalmente el desplazamiento tiene un sentido u orientacion. Al igual que el desplazamiento, en fisica existen cantidades tales como la posicion, la velocidad, la aceleracion o la fuerza que tambien tienen una magnitud, direccion y sentido, estas cantidades fisicas se representan por cantidades o funciones matematicas llamadas $\\color{blue}{'vectores'}$\n"
   ]
  },
  {
   "cell_type": "code",
   "execution_count": 3,
   "metadata": {},
   "outputs": [
    {
     "data": {
      "text/html": [
       "<div id=\"glowscript\" class=\"glowscript\"></div>"
      ],
      "text/plain": [
       "<IPython.core.display.HTML object>"
      ]
     },
     "metadata": {},
     "output_type": "display_data"
    },
    {
     "data": {
      "application/javascript": [
       "window.__context = { glowscript_container: $(\"#glowscript\").removeAttr(\"id\")}"
      ],
      "text/plain": [
       "<IPython.core.display.Javascript object>"
      ]
     },
     "metadata": {},
     "output_type": "display_data"
    }
   ],
   "source": [
    "# Simulacion de vetores\n",
    "%run vectores_Vpython.py"
   ]
  },
  {
   "cell_type": "markdown",
   "metadata": {},
   "source": [
    "## $\\color{blue}{Movimiento\\, rectilineo}$"
   ]
  },
  {
   "cell_type": "markdown",
   "metadata": {},
   "source": [
    "El movimiento rectilineo es el cambio de posicion de un objeto a la largo de uno de los ejes de referencia (x). En un instante inicial ($t_o$) el objeto (un objeto puntual) puede encontrarse en el origen del sistema de referencia o en un punto cualquiera ($x_o$) sobre el eje. En instantes posteriores determinamos la nueva posicion (x) del objeto. \n",
    "### Movimiento rectilineo uniforme: \n",
    "El cambio de posicion del objeto en el tiempo es uniforme. Definimos la velocidad del objeto como la razon entre el cambio de posicion ($\\Delta x = x - x_o$) y el tiempo transcurrido ($\\Delta t = t - t_o$): *v* = $\\frac{\\Delta x}{\\Delta t} (m/s)$. En el movimiento uniforme la velocidad es constante.\n",
    "\n",
    "- Para mayor facilidad siempre podemos considerar que el instante inicial $t_o = 0$, el cambio de posicion o desplazamiento es $\\Delta x = x - x_o$ el mismo que puede ser positivo o negativo, la magnitud del desplazamiento en este caso es la distancia recorrida por el objeto: $d = |x -x_o|$, tambien podemos asumir que el objeto se encuentra en el origen el instante inicial, luego $x_o = 0$\n",
    "- $\\color{blue}{Ecuaciones\\,del\\,movimiento\\, rectilineo:}$ con $t_o = 0$ $$v = \\frac{x - x_o}{t }$$ $$\\color{blue}{x = x_o + v * t} \\tag{1} \\label{1}$$  "
   ]
  },
  {
   "cell_type": "markdown",
   "metadata": {},
   "source": [
    "### Movimiento rectilineo acelerado:\n",
    "Cuando el cambio de posicion del objeto en el tiempo no es uniforme (en intervalos de tiempo subsecuentes iguales, el cambio de posicion es diferente) decimos que tiene un movimiento acelerado. Definimos la aceleracion del objeto como la razon entre el cambio de velocidad ( $\\Delta v = v - v_o$ ) y el intervalo de tiempo  ($\\Delta t = t - t_o$): *a* = $\\frac{\\Delta v}{\\Delta t}$. En el movimiento acelerado la velocidad es variable y la aceleracion puede ser constante o variable en el tiempo. En esta seccion solo se considera la aceleracion constante. La deduccion de las ecuaciones del movimiento acelerado se hara usando algunos conceptos del Calculo. El siguiente parrafo contiene lineas en rojo relacionados con dichos conceptos, del mismo modo, ecuaciones que no corresponden a la cinematica se escribiran en rojo.\n",
    "- La velocidad tiene diferentes valores en diferentes instantes, la velocidad del objeto puede aumentar o disminuir, no hay una velocidad unica durante el trascurso del movimiento, sin embargo podemos definir la velocidad media o promedio del objeto en un intervalo de tiempo cualquiera: $$<v> = \\frac{x - x_o}{t - t_o} = \\frac{v + v_o}{2}$$ un concepto usado en algunos eventos de la vida diaria. En fisica es preciso conocer la velocidad del objeto en cualquier instante del movimiento (el instante definimos como un intervalo de tiempo muy pequeño, casi cero), lo que nos lleva a definir la velocidad instantanea: a partir de la defincicion de velocidad $v = \\frac{\\Delta x}{\\Delta t}$, la condicion de que el intervalo de tiempo sea muy pequeño nos permite recurrir a los conceptos de limite y derivada definido en Calculo, $$ \\color{red}{v=\\lim_{\\Delta t\\to 0} \\frac{\\Delta x}{\\Delta t} = \\frac{dx}{dt}}$$ Este limite define la velocidad instantanea, si se conoce la posicion del objeto como una funcion del tiempo *x(t)*, la velocidad instantanes es la derivada de dicha funcion respecto al tiempo.\n",
    "- Si la velocidad es una funcion conocida del tiempo *v(t)*, definimos la aceleracion para un intervalo de tiempo muy pequeño, la aceleracion puede ser constante o variable: $$ \\color{red}{a=\\lim_{\\Delta t\\to 0} \\frac{\\Delta v}{\\Delta t}= \\frac{dv}{dt} (m/s^2)}$$ La aceleracion es la derivada de la velocidad respecto al tiempo.\n",
    "\n",
    "- $\\color{blue}{Ecuaciones\\, del\\, movimiento\\, acelerado:}$ con $t_o = 0$ $$a = \\frac{v - v_o}{t}  $$ $$\\color{blue}{ v = v_o + a * t} \\tag{2} \\label{2}$$ \n",
    "\n",
    "Para obtener la ecuacion de posicion en funcion del tiempo es necesario introducir otro concepto del Calculo, la integracion, como $\\color{blue}{v = \\frac{\\Delta x}{\\Delta t} = \\frac{dx}{dt}}$ $$ dx = v\\,dt$$ $$\\color{red}{x -x_o = \\int v\\,dt = \\int (v_o + a\\, t)\\,dt}$$ $$ \\color{red}{x - x_o = v_o * t + \\frac12\\,a*t^2}\\, ,$$ $$\\color{blue}{x = x_o + v_o * t + \\frac12a*t^2}  \\tag{3} \\label{3} $$                                   \n",
    "- $\\color{blue}{Las\\, ecuaciones\\, del\\, movimiento\\,rectilineo\\, estan\\,en\\, azul}$"
   ]
  },
  {
   "cell_type": "markdown",
   "metadata": {},
   "source": [
    "### $\\color{blue}{Simulaciones\\, de\\, movimiento\\, rectilineo:}$\n"
   ]
  },
  {
   "cell_type": "markdown",
   "metadata": {},
   "source": [
    "#### Simulacion 1\n",
    "Un coche pequeño puede moverse en una pista de 50 [m] de largo. \n",
    "- a) Para observar movimiento rectilineo uniforme seleccione un valor cualquiera de la velocidad, manteniendo en cero la aceleracion, calcule manualmente la distancia recorrida para diferentes tiempos y compare sus resultados con los de la simulacion, en los graficos use los hilos cruzados. Antes de seleccionar nuevos valores pulse el boton $\\color{blue}{NUEVO}$\n",
    "\n",
    "- b) El movimiento rectilineo acelerado se observa seleccionando un valor cualquiera de la velocidad y la aceleracion. Calcule manualmente la posicion y la velocidad en diferentes tiempos para diferentes valores de la aceleracion y compare con los resultados de la simulacion.\n",
    "$\\color{blue}{Que\\,representa\\,la\\,velocidad\\,seleccionada\\,en\\,la\\,simulacion?}$\n"
   ]
  },
  {
   "cell_type": "code",
   "execution_count": null,
   "metadata": {},
   "outputs": [
    {
     "data": {
      "text/html": [
       "<div id=\"glowscript\" class=\"glowscript\"></div>"
      ],
      "text/plain": [
       "<IPython.core.display.HTML object>"
      ]
     },
     "metadata": {},
     "output_type": "display_data"
    },
    {
     "data": {
      "application/javascript": [
       "window.__context = { glowscript_container: $(\"#glowscript\").removeAttr(\"id\")}"
      ],
      "text/plain": [
       "<IPython.core.display.Javascript object>"
      ]
     },
     "metadata": {},
     "output_type": "display_data"
    }
   ],
   "source": [
    "# Simulacion de movimiento rectilineo\n",
    "%run MovimientoRectilineo.py"
   ]
  },
  {
   "cell_type": "markdown",
   "metadata": {},
   "source": [
    "#### Simulacion 2"
   ]
  },
  {
   "cell_type": "markdown",
   "metadata": {},
   "source": [
    "Dos automoviles viajan por carriles paralelos en una carretera, el rojo a 60 km/h y el azul a 40 km/h. Justo cuando el rojo esta sobrepasando al azul y estan en la misma linea, este empieza a frenar a razon de 1.5 $(m/s^2)$ en tanto que el coche azul mantiene constante su velocidad.\n",
    "\n",
    "a) Que tiempo transcurre desde que el rojo empieza a frenar hasta que el azul le alcanza y sobrepasa?. Resuelva: $\\color{blue}{x(rojo)=x(azul)}$\n",
    "\n",
    "b) Que distancia recorre el coche rojo desde que empezo a frenar hasta pararse?. Resuelva: $\\color{blue}{v(rojo)=0\\, ;\\,\\,\\,\\,(ecuacion\\,(2))}$\n",
    "\n",
    "c) Que distancia separa a los dos coches cuando el rojo se detiene?. Resuelva: $\\color{blue}{ecuacion\\, (1)\\, para\\, x(azul)\\, y \\,ecuacion\\, (3)\\, para\\, x(rojo)}.$ \n",
    "\n",
    "Resuelva manualmente las ecuaciones del movimiento rectilineo (1), (2) y (3) correspondiente a los dos automoviles, compare sus resultados con la simulacion."
   ]
  },
  {
   "cell_type": "code",
   "execution_count": null,
   "metadata": {},
   "outputs": [
    {
     "data": {
      "text/html": [
       "<div id=\"glowscript\" class=\"glowscript\"></div>"
      ],
      "text/plain": [
       "<IPython.core.display.HTML object>"
      ]
     },
     "metadata": {},
     "output_type": "display_data"
    },
    {
     "data": {
      "application/javascript": [
       "window.__context = { glowscript_container: $(\"#glowscript\").removeAttr(\"id\")}"
      ],
      "text/plain": [
       "<IPython.core.display.Javascript object>"
      ]
     },
     "metadata": {},
     "output_type": "display_data"
    }
   ],
   "source": [
    "# Simulacion de Dos Automoviles\n",
    "%run Dos_Automoviles.py"
   ]
  },
  {
   "cell_type": "markdown",
   "metadata": {},
   "source": [
    "#### Simulacion 3"
   ]
  },
  {
   "cell_type": "markdown",
   "metadata": {},
   "source": [
    "Un automovil azul y un camion rojo parten del reposo en el mismo instante, el camion parte a 30 m por delante del automovil con una aceleracion de 1.2 $(m/s^2)$, el automovil parte con aceleracion de 1.8 $(m/s^2)$.\n",
    "\n",
    "a) Cuanto tarda el automovil en dar alcance al camion?.\n",
    "\n",
    "b) Que distancia recorre al automovil antes de alcanzar al camion?\n",
    "\n",
    "c) Cual sera la velocidad de los moviles cuando se encuentran justo sobre la misma linea?.\n",
    "\n",
    "Resuelva las ecuaciones similares a las del problema anterior. Compare sus resultados con los de la simulacion."
   ]
  },
  {
   "cell_type": "code",
   "execution_count": null,
   "metadata": {},
   "outputs": [
    {
     "data": {
      "text/html": [
       "<div id=\"glowscript\" class=\"glowscript\"></div>"
      ],
      "text/plain": [
       "<IPython.core.display.HTML object>"
      ]
     },
     "metadata": {},
     "output_type": "display_data"
    },
    {
     "data": {
      "application/javascript": [
       "window.__context = { glowscript_container: $(\"#glowscript\").removeAttr(\"id\")}"
      ],
      "text/plain": [
       "<IPython.core.display.Javascript object>"
      ]
     },
     "metadata": {},
     "output_type": "display_data"
    }
   ],
   "source": [
    "# Simulacion: Camion y Automovil\n",
    "%run CamionAutomovil.py"
   ]
  },
  {
   "cell_type": "markdown",
   "metadata": {},
   "source": [
    "#### Simulacion 4"
   ]
  },
  {
   "cell_type": "markdown",
   "metadata": {},
   "source": [
    "El elevador de un edificio puede subir desde la planta baja hasta el piso 21 en 17 s, de los cuales los primeros 5 s son aceleracion constante, 7 s con velocidad constante y los ultimos 5 s con deceleracion constante. Cada piso del edificio tiene una altura de 2.5 m.\n",
    "\n",
    "a) Calcule el valor de la aceleracion y la deceleracion sabiendo que son iguales en magnitud. La altura que sube durante la aceleracion y la deceleracion son iguales (porque?), resuelva manualmente el sistema de ecuaciones (1) y (2) para las diferentes etapas del moviento, compare sus resultados con los de la simulacion. La altura total que sube el ascensor son 52.5 m.\n",
    "\n",
    "b) Cual es la maxima velocidad constante del ascensor?"
   ]
  },
  {
   "cell_type": "code",
   "execution_count": null,
   "metadata": {
    "scrolled": true
   },
   "outputs": [
    {
     "data": {
      "text/html": [
       "<div id=\"glowscript\" class=\"glowscript\"></div>"
      ],
      "text/plain": [
       "<IPython.core.display.HTML object>"
      ]
     },
     "metadata": {},
     "output_type": "display_data"
    },
    {
     "data": {
      "application/javascript": [
       "window.__context = { glowscript_container: $(\"#glowscript\").removeAttr(\"id\")}"
      ],
      "text/plain": [
       "<IPython.core.display.Javascript object>"
      ]
     },
     "metadata": {},
     "output_type": "display_data"
    },
    {
     "name": "stdout",
     "output_type": "stream",
     "text": [
      " database. History logging moved to new session 253\n"
     ]
    }
   ],
   "source": [
    "# Simulacion: Ascensor de subida\n",
    "%run SubidaAscensor.py"
   ]
  },
  {
   "cell_type": "code",
   "execution_count": null,
   "metadata": {
    "collapsed": true
   },
   "outputs": [],
   "source": []
  }
 ],
 "metadata": {
  "kernelspec": {
   "display_name": "VPython",
   "language": "python",
   "name": "vpython"
  },
  "language_info": {
   "codemirror_mode": {
    "name": "ipython",
    "version": 3
   },
   "file_extension": ".py",
   "mimetype": "text/x-python",
   "name": "python",
   "nbconvert_exporter": "python",
   "pygments_lexer": "ipython3",
   "version": "3.6.5"
  }
 },
 "nbformat": 4,
 "nbformat_minor": 2
}
