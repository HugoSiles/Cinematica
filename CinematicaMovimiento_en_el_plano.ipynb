{
 "cells": [
  {
   "cell_type": "markdown",
   "metadata": {},
   "source": [
    "   ## CINEMATICA: Movimiento en el Plano "
   ]
  },
  {
   "cell_type": "code",
   "execution_count": 1,
   "metadata": {},
   "outputs": [
    {
     "data": {
      "text/html": [
       "<style>.container { width:100% !important; }</style>"
      ],
      "text/plain": [
       "<IPython.core.display.HTML object>"
      ]
     },
     "metadata": {},
     "output_type": "display_data"
    }
   ],
   "source": [
    "#importa pantalla total\n",
    "from IPython.core.display import display, HTML\n",
    "display(HTML(\"<style>.container { width:100% !important; }</style>\"))\n",
    "\n",
    "# Presionar Shift-Enter"
   ]
  },
  {
   "cell_type": "markdown",
   "metadata": {},
   "source": [
    "## $\\color{blue}{Movimiento \\,en\\, el\\, plano\\, vertical}$"
   ]
  },
  {
   "cell_type": "markdown",
   "metadata": {},
   "source": [
    "Todos los objetos que se mueven cerca de la superficie de la Tierra por accion de la Fuerza Gravitacional lo hacen en un plano vertical, el mismo que podemos hacer coincidir con el plano $\\textbf{x-y}$ de nuestro sistema de referencia. La Ley de la interaccion Gravitacional fue postulada y verificada por Isaac Newton (), todos los cuerpos que tienen masa se atraen entre si con una fuerza que es inversamente proporcional al cuadrado de la distancia, en el caso de la interaccion entre la Tierra $(M_T)$ y cualquier cuerpo $m$, la ley se expresa por la ecuaacion: $$\\color{red}{\\vec F = - \\frac{G M_T m}{r^2} \\hat{\\textbf{e}_r}}$$\n",
    "\n",
    "$\\hat{\\textbf{e}_r}$ es el vector unitario en la direccion del centro de la tierra al cuerpo, $r^2$ es la distancia del centro de la Tierra al cuerpo. En el caso de cuerpos que se encuentran proximos a la superficie de la Tierra o en la superficie, la anterior ecuacion puede simplificarse: \n",
    "$$\\color{red}{\\vec F = - \\frac{G*M_T*m}{R_T^2} \\hat{\\textbf{e}_r} = }  \\color{red}{m\\, *\\,g\\,\\hat{\\textbf{j}}}$$ \n",
    "$G$ es la constante de gravitavion iniversal,\n",
    "$R_T$ es el radio de la Tierra, $\\vec g\\,=\\,\\color{red}{-\\frac{G*M_T}{R_T^2}\\hat{\\textbf{e}_r}} = -9.81\\,\\hat{\\textbf{j}}\\,(\\frac{m}{s^2})$ es la aceleracion de los cuerpos que se mueven cerca a la superficie de la Tierra debido a la accion Gravitacional, cuya direccion coincide con la direccion $\\textbf{y}$ del sistema de referencia pero en sentido negativo.\n",
    "\n",
    "Para estudiar el movimiento de los cuerpos o particulas en el plano debemos escribir las definiciones y ecuaciones del movimiento en forma vectorial: $$ \\color{blue}{Posicion \\,del\\, objeto: \\,\\vec r\\,=\\,x\\,\\vec i\\,+\\,y\\,\\vec j} $$ \n",
    "$$ \\color{blue}{Velocidad \\,del\\, objeto: \\,\\vec v = \\frac{\\vec {\\textbf{r}}-\\vec{\\textbf{r}_o}}{t-t_o} = \\frac{\\Delta \\vec{\\textbf{r}}}{\\Delta t} }$$\n",
    "$$ \\color{blue}{Aceleracion \\,del\\, objeto: \\,\\vec a = \\frac{\\vec {\\textbf{v}}-\\vec{\\textbf{v}_o}}{t-t_o} = \\frac{\\Delta \\vec{\\textbf{v}}}{\\Delta t} }$$\n",
    "\n",
    "$\\color{blue}{Ecuaciones\\, del \\,movimiento\\, de\\, una\\, particula:}$\n",
    "$$ \\color{blue}{\\vec {\\textbf{v}}=\\vec {\\textbf{v}_o}+\\vec {\\textbf{a}}*t} \\tag{4} \\label{4} $$\n",
    "$$ \\color{blue}{\\vec {\\textbf{r}}=\\vec {\\textbf{r}_o}+\\vec {\\textbf{v}}*t + \\frac12 \\vec{\\textbf{a}}*t^2  } \\tag{5} \\label{5}$$\n",
    "Para el movimiento en el plano vertical con aceleracion gravitacional: $\\color{blue}{\\vec{\\textbf{a}} = \\vec{\\textbf{g}}}$ "
   ]
  },
  {
   "cell_type": "markdown",
   "metadata": {},
   "source": [
    "### $\\color{blue}{Simulaciones\\, en\\, el\\, plano\\, vertical :} Caida\\,libre, movimiento\\, parabolico$ \n"
   ]
  },
  {
   "cell_type": "markdown",
   "metadata": {},
   "source": [
    "#### Simulacion 1"
   ]
  },
  {
   "cell_type": "markdown",
   "metadata": {},
   "source": [
    "Un pelota (verde) se deja caer desde un edificio de 140 (m) de altura, simultaneamente de lanza otro objeto (celeste) desde la base del edificio con velocidad vertical $ {v_o}$ igual a la velocidad de la bola verde cuando llega al suelo.\n",
    "\n",
    "a) Calcule la velocidad de lanzamiento del cuerpo celeste para que llegue justo hasta la parte superior del edificio. Verifique  que el tiempo de bajada y el tiempo de subida de los cuerpos son iguales. Compare sus resultados con los de la simulacion. Usar las ecuaciones $\\color{blue}{(1) \\,y\\, (2)}$ para sus calculos. Como explica el mismo cambio de posicion de las bolas en los diferentes intervalos de tiempo?\n",
    "\n",
    "b) $\\color{red}{(Mayor\\,dificultad)}$ Dependiendo del valor del coheficiente de restitucion $\\color{blue}{(CR)}$ la bola verde realizara un determinado numero de rebotes antes de pararse, seleccione el valor de $\\color{blue}{CR}$ , calcule dicho numero y el tiempo que tarda en pararse. Sugerencia: La velocidad de rebote de la bola es: $\\color{blue}{v_r = v_l*CR}$, $\\color{blue}{v_l\\, es \\,la\\, velocidad\\, de\\,la\\,bola\\,cada \\,que\\,llega\\, al\\, suelo}.$ Compare sus resultados con los de la simulacion, En la simulacion se considera que la bola verde se para cuando su velocidad final es 0.04 (m/s), por cuestiones de visibilidad en la pantalla.\n",
    "\n",
    "La simulacion imprime datos numericos de la posicion en funcion del tiempo en la hoja de $'shell-python'$ "
   ]
  },
  {
   "cell_type": "code",
   "execution_count": null,
   "metadata": {},
   "outputs": [
    {
     "data": {
      "application/javascript": [
       "require.undef(\"nbextensions/vpython_libraries/glow.min\");"
      ],
      "text/plain": [
       "<IPython.core.display.Javascript object>"
      ]
     },
     "metadata": {},
     "output_type": "display_data"
    },
    {
     "data": {
      "application/javascript": [
       "require.undef(\"nbextensions/vpython_libraries/glowcomm\");"
      ],
      "text/plain": [
       "<IPython.core.display.Javascript object>"
      ]
     },
     "metadata": {},
     "output_type": "display_data"
    },
    {
     "data": {
      "application/javascript": [
       "require.undef(\"nbextensions/vpython_libraries/jquery-ui.custom.min\");"
      ],
      "text/plain": [
       "<IPython.core.display.Javascript object>"
      ]
     },
     "metadata": {},
     "output_type": "display_data"
    },
    {
     "data": {
      "application/javascript": [
       "require([\"nbextensions/vpython_libraries/glow.min\"], function(){console.log(\"GLOW LOADED\");})"
      ],
      "text/plain": [
       "<IPython.core.display.Javascript object>"
      ]
     },
     "metadata": {},
     "output_type": "display_data"
    },
    {
     "data": {
      "application/javascript": [
       "require([\"nbextensions/vpython_libraries/glowcomm\"], function(){console.log(\"GLOWCOMM LOADED\");})"
      ],
      "text/plain": [
       "<IPython.core.display.Javascript object>"
      ]
     },
     "metadata": {},
     "output_type": "display_data"
    },
    {
     "data": {
      "application/javascript": [
       "require([\"nbextensions/vpython_libraries/jquery-ui.custom.min\"], function(){console.log(\"JQUERY LOADED\");})"
      ],
      "text/plain": [
       "<IPython.core.display.Javascript object>"
      ]
     },
     "metadata": {},
     "output_type": "display_data"
    },
    {
     "data": {
      "text/html": [
       "<div id=\"glowscript\" class=\"glowscript\"></div>"
      ],
      "text/plain": [
       "<IPython.core.display.HTML object>"
      ]
     },
     "metadata": {},
     "output_type": "display_data"
    },
    {
     "data": {
      "application/javascript": [
       "window.__context = { glowscript_container: $(\"#glowscript\").removeAttr(\"id\")}"
      ],
      "text/plain": [
       "<IPython.core.display.Javascript object>"
      ]
     },
     "metadata": {},
     "output_type": "display_data"
    },
    {
     "data": {
      "text/html": [
       "<div id=\"glowscript\" class=\"glowscript\"></div>"
      ],
      "text/plain": [
       "<IPython.core.display.HTML object>"
      ]
     },
     "metadata": {},
     "output_type": "display_data"
    },
    {
     "data": {
      "application/javascript": [
       "window.__context = { glowscript_container: $(\"#glowscript\").removeAttr(\"id\")}"
      ],
      "text/plain": [
       "<IPython.core.display.Javascript object>"
      ]
     },
     "metadata": {},
     "output_type": "display_data"
    },
    {
     "name": "stdout",
     "output_type": "stream",
     "text": [
      "  0.56       139.462\n",
      "  1.68       127.156\n",
      "  2.80       102.545\n",
      "  3.08       94.469\n",
      "  3.92       65.628\n",
      "  5.32       2.177\n",
      "Posicion final de la caida libre(m):  0.000\n",
      "Tiempo de la caida libre(s):  5.323\n"
     ]
    }
   ],
   "source": [
    "# Simulacion de caida libre\n",
    "%run caidaLibre.py"
   ]
  },
  {
   "cell_type": "markdown",
   "metadata": {},
   "source": [
    "#### Simulacion 2\n"
   ]
  },
  {
   "cell_type": "markdown",
   "metadata": {},
   "source": [
    "El movimiento parabolico de proyectiles u objetos en las proximidades de la superfiice de la Tierra es debido a la accion gravitacional de la Tierra. Las Ecuaciones particulares del movimiento parabolico por componentes cartesianas se obtienen apartir de las ecuaciones $\\color{blue}{(4) \\,y \\,(5)}$, y se expresan como:\n",
    "$$ \\color{blue}{\\textbf{v}_x=\\textbf{v}_{ox} = cte.}  \\tag{6} \\label{6} $$\n",
    "$$ \\color{blue}{\\textbf{x}=\\textbf{x}_o+\\textbf{v}_{ox}*t}   \\tag{7} \\label{7}$$\n",
    "$$ \\color{blue}{\\textbf{v}_y=\\textbf{v}_{oy} -g*t} \\tag{8} \\label{8} $$\n",
    "$$ \\color{blue}{\\textbf{y}=\\textbf{y}_o+\\textbf{v}_{oy}*t - \\frac12 * g* t^2}   \\tag{9} \\label{9}$$\n",
    "\n",
    "Las ecuaciones especiales del movimiento parabolico para calcular: la altura maxima $\\color{blue}{(H_{max})}$ que sube el proyectil, el alcance horizontal del proyectil $\\color{blue}{(R)}$, el angulo de lanzamiento para el alcance maximo $\\color{blue}{(R_{max})}$, el tiempo de vuelo del proyectil $\\color{blue}{(t_v)}$ se obtienen resolviendo el sistema de ecuaciones $\\color{blue}{(7), (8)\\,y\\,(9)}$. En la simulaccion verificara los calculos manuales respectivos que debe hacer para diferentes velocidades y angulos de lanzamiento del proyectil, y el alcance del proyectil para angulos complementarios con la misma velocidad de lanzamiento.\n"
   ]
  },
  {
   "cell_type": "code",
   "execution_count": null,
   "metadata": {},
   "outputs": [],
   "source": [
    "%run parabolico.py"
   ]
  },
  {
   "cell_type": "markdown",
   "metadata": {},
   "source": [
    "#### Simulacion 3"
   ]
  },
  {
   "cell_type": "markdown",
   "metadata": {},
   "source": [
    "La simulacion demuestra que dos proyectiles lanzados simulataneamente, ambos con una velocidad determinada, al espacio chocaran si y solamente si los mismos chocan sin tomar en cuenta la accion de la gravedad. Haga los calculos manuales pare demostrar, o en su caso varie los angulos de lanzamiento hasta conseguir que choquen los proyectiles. Cuando se produce el choque la simulacion enciende una luz. \n",
    "\n",
    "Para realizar nuevos disparos solo tiene que modificar las varibles y luego disparar con el boton $\\color{blue}{INICIAR}$. Se recomienda limpiar la pantalla con el boton $\\color{blue}{NUEVO}$ despues de cinco disparos, en todas las simulaciones con opcion de multiple disparo. "
   ]
  },
  {
   "cell_type": "code",
   "execution_count": null,
   "metadata": {},
   "outputs": [],
   "source": [
    "%run ChoqueProyectiles.py"
   ]
  },
  {
   "cell_type": "markdown",
   "metadata": {},
   "source": [
    "#### Simulacion 4"
   ]
  },
  {
   "cell_type": "markdown",
   "metadata": {},
   "source": [
    "Una pelota se lanza contra una pared y rebota elasticamente pasando por encima de la cabeza del jugador. El lanzamiento de la pelota se realiza desde 2 m por encima del suelo y a 4 m de distancia de la pared. La velocidad de lanzamiento es tal que $\\color{blue}{ \\textbf{v}_{ox}=\\textbf{v}_{oy} = 0.99 \\,(m/s).}$\n",
    "\n",
    "a) A que distancia por detras del jugador cae la pelota despues del rebote?\n",
    "\n",
    "b) A que altura por encima del piso choca la pelota contra la pared?\n",
    "\n",
    "c) Calcule la velocidad de lanzamiento para que la pelota choque con la pared en la cuspide de su trayectoria.\n",
    "\n",
    "En todos los casos solo tiene que resolver el sistema de ecuaciones formado por las ecuaciones $\\color{blue}{(7), (8)\\,y\\,(9)}$. Compare sus calculos manuales con los resultados de la simulacion. En la simulacion puede variar la distancia del lanzamiento a la pared y el angulo hasta determinar la maxima distancia de rebote desde la pared. Para la velocidad inicial puede encontrar la distancia del jugador a la pared para que la pelota rebote en el punto mas alto de su trayectoria. Investigue mas opciones."
   ]
  },
  {
   "cell_type": "code",
   "execution_count": null,
   "metadata": {},
   "outputs": [],
   "source": [
    "%run reboteVertical.py"
   ]
  },
  {
   "cell_type": "markdown",
   "metadata": {},
   "source": [
    "#### Simulacion 5"
   ]
  },
  {
   "cell_type": "markdown",
   "metadata": {},
   "source": [
    "Un mortero se emplaza en el plano horizontal a 8226 (m) del borde de una acantilado que cae 106 (m) desde el nivel del mortero. Hasta que distancia minima del borde inferior del acantilado pueden caer los proyectiles si se disparan con una velocidad inicial de 306 m/s ?. Determine el angulo de lanzamiento y el tiempo de vuelo hasta el fondo del acantilado.\n",
    "\n",
    "Compare sus resultados con los de la simulacion. La trayectoria de los proyectiles deben pasar tangencialmente por el borde del acantilado. Recuerde que hay dos angulos de disparo para un mismo angulo. La simulacion enciende una luz cuando dispara con el angulo correcto."
   ]
  },
  {
   "cell_type": "code",
   "execution_count": null,
   "metadata": {},
   "outputs": [],
   "source": [
    "%run cañon.py"
   ]
  },
  {
   "cell_type": "code",
   "execution_count": null,
   "metadata": {},
   "outputs": [],
   "source": []
  }
 ],
 "metadata": {
  "kernelspec": {
   "display_name": "VPython",
   "language": "python",
   "name": "vpython"
  },
  "language_info": {
   "codemirror_mode": {
    "name": "ipython",
    "version": 3
   },
   "file_extension": ".py",
   "mimetype": "text/x-python",
   "name": "python",
   "nbconvert_exporter": "python",
   "pygments_lexer": "ipython3",
   "version": "3.6.5"
  }
 },
 "nbformat": 4,
 "nbformat_minor": 2
}
