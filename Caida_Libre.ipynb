{
 "cells": [
  {
   "cell_type": "code",
   "execution_count": null,
   "metadata": {},
   "outputs": [
    {
     "data": {
      "application/javascript": [
       "require.undef(\"nbextensions/vpython_libraries/glow.min\");"
      ],
      "text/plain": [
       "<IPython.core.display.Javascript object>"
      ]
     },
     "metadata": {},
     "output_type": "display_data"
    },
    {
     "data": {
      "application/javascript": [
       "require.undef(\"nbextensions/vpython_libraries/glowcomm\");"
      ],
      "text/plain": [
       "<IPython.core.display.Javascript object>"
      ]
     },
     "metadata": {},
     "output_type": "display_data"
    },
    {
     "data": {
      "application/javascript": [
       "require.undef(\"nbextensions/vpython_libraries/jquery-ui.custom.min\");"
      ],
      "text/plain": [
       "<IPython.core.display.Javascript object>"
      ]
     },
     "metadata": {},
     "output_type": "display_data"
    },
    {
     "data": {
      "application/javascript": [
       "require([\"nbextensions/vpython_libraries/glow.min\"], function(){console.log(\"GLOW LOADED\");})"
      ],
      "text/plain": [
       "<IPython.core.display.Javascript object>"
      ]
     },
     "metadata": {},
     "output_type": "display_data"
    },
    {
     "data": {
      "application/javascript": [
       "require([\"nbextensions/vpython_libraries/glowcomm\"], function(){console.log(\"GLOWCOMM LOADED\");})"
      ],
      "text/plain": [
       "<IPython.core.display.Javascript object>"
      ]
     },
     "metadata": {},
     "output_type": "display_data"
    },
    {
     "data": {
      "application/javascript": [
       "require([\"nbextensions/vpython_libraries/jquery-ui.custom.min\"], function(){console.log(\"JQUERY LOADED\");})"
      ],
      "text/plain": [
       "<IPython.core.display.Javascript object>"
      ]
     },
     "metadata": {},
     "output_type": "display_data"
    },
    {
     "data": {
      "text/html": [
       "<div id=\"glowscript\" class=\"glowscript\"></div>"
      ],
      "text/plain": [
       "<IPython.core.display.HTML object>"
      ]
     },
     "metadata": {},
     "output_type": "display_data"
    },
    {
     "data": {
      "application/javascript": [
       "window.__context = { glowscript_container: $(\"#glowscript\").removeAttr(\"id\")}"
      ],
      "text/plain": [
       "<IPython.core.display.Javascript object>"
      ]
     },
     "metadata": {},
     "output_type": "display_data"
    },
    {
     "name": "stdout",
     "output_type": "stream",
     "text": [
      "   0.84       136.543\n",
      "  1.40       130.396\n"
     ]
    }
   ],
   "source": [
    "from vpython import *\n",
    "import numpy as np\n",
    "\n",
    "##genera ventana de edificio y objetos en movimiento\n",
    "\n",
    "scene.title = \"\"\"                          ESCENARIO DEL MOVIMIENTO - CAIDA LIBRE\"\"\"\n",
    "scene.width=730\n",
    "scene.height=550  #, x=420, y=0,\n",
    "scene.autoscale=0\n",
    "scene.range=(100)\n",
    "scene.center=vector(0,40,0)\n",
    "scene.background=color.gray(0.85)\n",
    "scene.foreground=color.black\n",
    "scene.align='left'\n",
    "#scene.ambient = 0.5 #scene.lights = [vector(0,0.2,0.5)\n",
    "distant_light(direction=vector(0,10,-10), color=color.gray(0.85)) \n",
    "r = 0.1    \n",
    "def objetos():\n",
    "    global bola,bola1    \n",
    "    ground = box(pos=vector(0,-18,0),size=vector(200,2,80),color=vector(0.6,0.6,0.5))\n",
    "    edificio = box(size=vector(14,140,10),pos=vector(-20,53,0),color=vector(0.8,0.4,0))\n",
    "    terraza = box(size=vector(28,2,10),pos=vector(-13,124.0,0),color=vector(0.8,0.4,0))\n",
    "    bolaS = sphere(pos=vector(3,124,0),radius=2, color=vector(0.7,0.7,0.7)) \n",
    "    bola = sphere(pos=vector(3,124,0),radius=2, color=vector(0,1,0))\n",
    "    bola1S = sphere(pos=vector(10,-15.936,0),radius=2, color=vector(0.7,0.7,0.7))\n",
    "    bola1 = sphere(pos=vector(10,-15.936,0),radius=2, color=vector(0,1,1))    \n",
    "    \n",
    "    for x in np.arange(-20,-19,1):\n",
    "        cuV = curve(color=color.cyan, radius=r)\n",
    "        cuV.append([vector(x,123,5),vector(x,-17,5)])\n",
    "\n",
    "    for y in np.arange(-12,125,5):\n",
    "        cuH = curve(color=color.cyan, radius=r)\n",
    "        cuH.append([vector(-13,y,5), vector(-27,y,5)])\n",
    "\n",
    "objetos()\n",
    "##*************************************\n",
    "##Define funciones de los botones de control\n",
    "##*************************************\n",
    "res = 0\n",
    "label1 = label(text=\"  Coheficiente de restitucion): \"+str(res),height=14,\n",
    "            space=0.2,pos=vector(80,120,0),opacity=0.1,color=color.blue)\n",
    "scene.caption = '\\n \\n \\n \\n                          CONTROLES \\n \\n \\n \\n'\n",
    "def nuevo():   #crea una pantalla nueva (reset)\n",
    "    global scene,Velo,label1,label2\n",
    "    \n",
    "    scene.visible = False       \n",
    "    for obj in scene.objects:\n",
    "        obj.visible = False        \n",
    "    scene.visible = True\n",
    "    objetos()\n",
    "    res = 0\n",
    "    label1.visible = False\n",
    "    label1 = label(text=\"  Coheficiente de restitucion): \"+str(res),height=14,\n",
    "            space=0.2,pos=vector(80,120,0),opacity=0.1,color=color.blue) \n",
    "\n",
    "def restitucion(r):\n",
    "    global res, label1\n",
    "    rs = r.value\n",
    "    res = rs*0.1\n",
    "    label1.visible = False\n",
    "    label1 = label(text=\"  Coheficiente de restitucion: \"+str(\"%0.2f\"%res),height=14,\n",
    "            space=0.2,pos=vector(80,120,0),opacity=0.1,color=color.blue)\n",
    "    \n",
    "ejecutar = False\n",
    "def inicio():\n",
    "    global ejecutar\n",
    "    ejecutar = not ejecutar\n",
    "\n",
    "####*************************************\n",
    "####Crea los botones de control\n",
    "####*************************************\n",
    "\n",
    "scene.append_to_caption('                  ')\n",
    "button(text=\"INICIAR\",align='right', bind=inicio)\n",
    "scene.append_to_caption('    ')\n",
    "button(text=\"NUEVO\",align='right', bind=nuevo)\n",
    "\n",
    "scene.append_to_caption(\"\\n \\n\\n\\n       Modificar coheficiente de restitucion \\n \\n\")\n",
    "slider(min=0, max=10, value=0, length=220,step=2,align= 'left',bind=restitucion)\n",
    "\n",
    "g = 9.8   \n",
    "H = 140\n",
    "Vo = 0 \n",
    "Yo = 0\n",
    "Vel_j = np.zeros(80)\n",
    "Pos_j = np.zeros(80)\n",
    "Tmax = sqrt(2*H/g)\n",
    "print (\" Datos de la caida libre\")\n",
    "print (\" Tiempo(s)\", \" Posicion(m)\")\n",
    "print (\" \",\"%0.2f\"%0.0, \"     \",\"%0.3f\"%140.)\n",
    "\n",
    "####*************************************\n",
    "####Funciones de caida libre\n",
    "####*************************************\n",
    "\n",
    "def caida():\n",
    "    global bola,Vbola,t1,bola1y,bola1,Tmov,PosFinal,bolay\n",
    "    contador = 0   \n",
    "    for t1 in arange(0,Tmax,0.002):\n",
    "        t2 = t1+0.022      \n",
    "        rate(800) \n",
    "        contador +=1\n",
    "        bolax = 3\n",
    "        bolay = 124 -Vo*t1 - 0.5*g*t1**2\n",
    "        Vbola = Vo- g*t1\n",
    "        bola1x = 10\n",
    "        bola1y = -15.936 + 52.332*t2 -0.5*g*t2**2\n",
    "        Vbola1 = Tmax*g-g*t2\n",
    "        bola.pos = vector(bolax,bolay,0)\n",
    "        bola1.pos = vector(bola1x,bola1y,0)\n",
    "        if contador == 141:\n",
    "            sombra = sphere(pos=vector(3,bolay,0),radius=1, color=vector(1,1,0))\n",
    "            sombra1 = sphere(pos=vector(10,bola1y,0),radius=1, color=vector(1,1,0))            \n",
    "            print (\" \",\"%0.2f\"%t1, \"     \",\"%0.3f\"%(bolay+16.))\n",
    "            contador = 1\n",
    "        Tmov = Tmax\n",
    "        PosFinal = bolay\n",
    "    \n",
    "def sube_baja():\n",
    "    global Vbola,bolay,t1,Vel_j,Pos_j,j,Tmov,res\n",
    "  \n",
    "    Vo = -Vel_j[j]*res\n",
    "    Yo = Pos_j[j]\n",
    "    Tmax1 = 2*Vo/g\n",
    "    Tmov = Tmov + Tmax1\n",
    "    t2 = 0\n",
    "    dt = 0.005\n",
    "    termina = False    \n",
    "    while not termina:\n",
    "        rate(320)\n",
    "        t2 = t2+dt                      \n",
    "        bolax = 3\n",
    "        bolay = Yo + Vo*t2-0.5*g*t2**2\n",
    "        Vbola = Vo- g*t2        \n",
    "        bola.pos = vector(bolax,bolay,0)\n",
    "        \n",
    "        if t2 > Tmax1-0.003:\n",
    "            termina  = True      \n",
    "\n",
    "\n",
    "##*************************************\n",
    "##ejecuta la simulacion fisica\n",
    "##*************************************\n",
    "def simulacion():\n",
    "    global bola,Vbola,bolay,t1,t2,Vel_j,Altura1,TiempoT\n",
    "    global Pos_j,j,bola1y,bola1,Velocidad1,res,Rebotes   \n",
    "    Velocidad1.visible = 0\n",
    "    Altura1.visible = 0\n",
    "    TiempoT.visible = 0\n",
    "    Rebotes.visible = 0\n",
    "    caida()\n",
    "    print (\"Posicion final de la caida libre(m): \",\"%0.3f\"%(0.0))  \n",
    "    print (\"Tiempo de la caida libre(s): \",\"%0.3f\"%Tmax)        \n",
    "    if res == 0:\n",
    "        NR = 0.\n",
    "        Velocidad1 = label(pos=vector(80.,109,0),color=color.red,opacity=0.1,height=14,\n",
    "           space=0.2, text=\"Velocidad Bola_celeste(m/s): \"+str(\"%0.2f\"%52.332))\n",
    "        TiempoT = label(pos=vector(80.,98,0),color=color.red,opacity=0.1,height=14,\n",
    "               space=0.2, text=\"Tiempo caida libre(s): \"+str(\"%0.3f\"%Tmax))\n",
    "\n",
    "    for j in arange(0,80,1):        \n",
    "        Vel_j[j] = Vbola\n",
    "        Pos_j[j] = bolay        \n",
    "        sube_baja()        \n",
    "        if abs(Vbola) < 0.04:\n",
    "            H1 = 0.5*(Vel_j[1])**2/g\n",
    "            NR = float(j+1)\n",
    "            Velocidad1 = label(pos=vector(80.,109,0),color=color.red,opacity=0.1,space=0.2,\n",
    "                      text=\"Velocidad Bola_celeste(m/s): \"+str(\"%0.2f\"%52.332),height=14)\n",
    "            Altura1 = label(pos=vector(80.,87,0),color=color.red,opacity=0.1,\n",
    "                    space=0.2, text=\"Altura de 1er rebote(m): \"+str(\"%0.2f\"%H1),height=14)\n",
    "            TiempoT = label(pos=vector(80.,98,0),color=color.red,opacity=0.1,\n",
    "                       space=0.2, text=\"Tiempo total(s): \"+str(\"%0.2f\"%Tmov),height=14)\n",
    "            Rebotes = label(pos=vector(80.,75,0),color=color.red,opacity=0.1,height=14,\n",
    "                        space=0.2, text=\"Numero de rebotes: \"+str(\"%0.0f\"%NR))\n",
    "\n",
    "            ## luces de solucion correcta\n",
    "            r = 8\n",
    "            boxy = box(pos=vector(40, 60, -64),size=vector(12,12,2),\n",
    "                       color=vector(0.5, 0.5, 0.5))\n",
    "            foco = sphere(radius=1, pos=vector(30, 60,0 ),\n",
    "                       color=vector(0.6,0.6,0.5))\n",
    "            luz = local_light(pos=foco.pos, color=foco.color)\n",
    "            for j in arange(0,40,0.05):\n",
    "                rate(100)\n",
    "                luz.pos = foco.pos = r*vector( 5+cos(j),foco.pos.y/r, -8+sin(j))\n",
    "            luz.visible = 0\n",
    "            foco.visible = 0\n",
    "            boxy.visible = 0\n",
    "                \n",
    "            break\n",
    "        \n",
    "####*************************************\n",
    "####ejecuta el ciclo principal\n",
    "####*************************************\n",
    "        \n",
    "restitucion = label(visible = 0)\n",
    "Velocidad1 = label(visible = 0)\n",
    "Altura1 = label(visible = 0)\n",
    "TiempoT = label(visible = 0)\n",
    "Rebotes = label(visible = 0)  \n",
    "\n",
    "while 1:    \n",
    "    rate(80)\n",
    "    if ejecutar:\n",
    "        simulacion()\n",
    "        ejecutar = not ejecutar      \n"
   ]
  },
  {
   "cell_type": "code",
   "execution_count": null,
   "metadata": {
    "collapsed": true
   },
   "outputs": [],
   "source": []
  }
 ],
 "metadata": {
  "kernelspec": {
   "display_name": "VPython",
   "language": "python",
   "name": "vpython"
  },
  "language_info": {
   "codemirror_mode": {
    "name": "ipython",
    "version": 3
   },
   "file_extension": ".py",
   "mimetype": "text/x-python",
   "name": "python",
   "nbconvert_exporter": "python",
   "pygments_lexer": "ipython3",
   "version": "3.6.2"
  }
 },
 "nbformat": 4,
 "nbformat_minor": 2
}
